{
 "cells": [
  {
   "cell_type": "code",
   "execution_count": 1,
   "metadata": {},
   "outputs": [],
   "source": [
    "import pandas as pd\n",
    "import numpy as np\n",
    "import scipy as sp\n",
    "import plotly.plotly as py\n",
    "import plotly.graph_objs as go"
   ]
  },
  {
   "cell_type": "code",
   "execution_count": 2,
   "metadata": {},
   "outputs": [],
   "source": [
    "df = pd.read_csv('results1.csv').where(lambda x: x.algorithm == 'find_neighbors')"
   ]
  },
  {
   "cell_type": "code",
   "execution_count": 3,
   "metadata": {},
   "outputs": [
    {
     "data": {
      "text/html": [
       "<iframe id=\"igraph\" scrolling=\"no\" style=\"border:none;\" seamless=\"seamless\" src=\"https://plot.ly/~addem/64.embed\" height=\"525px\" width=\"100%\"></iframe>"
      ],
      "text/plain": [
       "<plotly.tools.PlotlyDisplay object>"
      ]
     },
     "execution_count": 3,
     "metadata": {},
     "output_type": "execute_result"
    }
   ],
   "source": [
    "dfd = df.where(lambda x: x.type == 'density')\n",
    "\n",
    "density_medians = dfd.groupby('density').median()\n",
    "\n",
    "data = [\n",
    "    go.Box(\n",
    "        x=dfd.density,\n",
    "        y=dfd.total_time,\n",
    "        name='total time',\n",
    "        marker=dict(\n",
    "            color='rgb(214, 12, 140)',\n",
    "        ),\n",
    "        yaxis='y1'),\n",
    "    go.Scatter(\n",
    "        x=density_medians.axes[0],\n",
    "        y=density_medians.total_time,\n",
    "        showlegend=False,\n",
    "        mode='lines',\n",
    "        line=dict(\n",
    "            color='rgb(214, 12, 140)',\n",
    "            width=1\n",
    "        ),\n",
    "        yaxis='y1'),\n",
    "\n",
    "    go.Box(\n",
    "        x=dfd.density,\n",
    "        y=dfd.max_memory - dfd.min_memory,\n",
    "        name='estimated memory usage',\n",
    "        marker=dict(\n",
    "            color='rgb(0, 128, 128)',\n",
    "        ),\n",
    "        yaxis='y2'),\n",
    "    go.Scatter(\n",
    "        x=density_medians.axes[0],\n",
    "        y=density_medians.max_memory - density_medians.min_memory,\n",
    "        showlegend=False,\n",
    "        mode='lines',\n",
    "        line=dict(\n",
    "            color='rgb(0, 128, 128)',\n",
    "            width=1\n",
    "        ),\n",
    "        yaxis='y2')\n",
    "]\n",
    "\n",
    "layout = go.Layout(\n",
    "    title='Variying density',\n",
    "    yaxis2=dict(\n",
    "        overlaying='y',\n",
    "        side='right'\n",
    "    )\n",
    ")\n",
    "\n",
    "fig = go.Figure(data=data, layout=layout)\n",
    "py.iplot(fig, filename='density chart')"
   ]
  },
  {
   "cell_type": "code",
   "execution_count": 6,
   "metadata": {
    "scrolled": false
   },
   "outputs": [
    {
     "data": {
      "text/html": [
       "<iframe id=\"igraph\" scrolling=\"no\" style=\"border:none;\" seamless=\"seamless\" src=\"https://plot.ly/~addem/62.embed\" height=\"525px\" width=\"100%\"></iframe>"
      ],
      "text/plain": [
       "<plotly.tools.PlotlyDisplay object>"
      ]
     },
     "execution_count": 6,
     "metadata": {},
     "output_type": "execute_result"
    }
   ],
   "source": [
    "dfv = df.where(lambda x: x.type == 'volume')\n",
    "\n",
    "volume_medians = dfv.groupby('volume').median()\n",
    "\n",
    "data = [\n",
    "    go.Box(\n",
    "        x=dfv.volume,\n",
    "        y=dfv.total_time,\n",
    "        name='total time',\n",
    "        marker=dict(\n",
    "            color='rgb(214, 12, 140)',\n",
    "        ),\n",
    "        yaxis='y1'),\n",
    "    go.Scatter(\n",
    "        x=volume_medians.axes[0],\n",
    "        y=volume_medians.total_time,\n",
    "        showlegend=False,\n",
    "        mode='lines',\n",
    "        line=dict(\n",
    "            color='rgb(214, 12, 140)',\n",
    "            width=1\n",
    "        ),\n",
    "        yaxis='y1'),\n",
    "\n",
    "    go.Box(\n",
    "        x=dfv.volume,\n",
    "        y=dfv.max_memory - dfv.min_memory,\n",
    "        name='estimated memory usage',\n",
    "        marker=dict(\n",
    "            color='rgb(0, 128, 128)',\n",
    "        ),\n",
    "        yaxis='y2'),\n",
    "    go.Scatter(\n",
    "        x=volume_medians.axes[0],\n",
    "        y=volume_medians.max_memory - volume_medians.min_memory,\n",
    "        showlegend=False,\n",
    "        mode='lines',\n",
    "        line=dict(\n",
    "            color='rgb(0, 128, 128)',\n",
    "            width=1\n",
    "        ),\n",
    "        yaxis='y2')\n",
    "]\n",
    "\n",
    "layout = go.Layout(\n",
    "    title='Variying volume',\n",
    "    yaxis=dict(\n",
    "        type='log'\n",
    "    ),\n",
    "    yaxis2=dict(\n",
    "        type='log',\n",
    "        overlaying='y',\n",
    "        side='right'\n",
    "    )\n",
    ")\n",
    "\n",
    "fig = go.Figure(data=data, layout=layout)\n",
    "py.iplot(fig, filename='volume chart')"
   ]
  },
  {
   "cell_type": "code",
   "execution_count": 5,
   "metadata": {},
   "outputs": [
    {
     "data": {
      "text/html": [
       "<iframe id=\"igraph\" scrolling=\"no\" style=\"border:none;\" seamless=\"seamless\" src=\"https://plot.ly/~addem/62.embed\" height=\"525px\" width=\"100%\"></iframe>"
      ],
      "text/plain": [
       "<plotly.tools.PlotlyDisplay object>"
      ]
     },
     "execution_count": 5,
     "metadata": {},
     "output_type": "execute_result"
    }
   ],
   "source": [
    "dfr = df.where(lambda x: x.type == 'radius')\n",
    "\n",
    "radius_medians = dfr.groupby('radius').median()\n",
    "\n",
    "data = [\n",
    "    go.Box(\n",
    "        x=dfr.radius,\n",
    "        y=dfr.total_time,\n",
    "        name='total time',\n",
    "        marker=dict(\n",
    "            color='rgb(214, 12, 140)',\n",
    "        ),\n",
    "        yaxis='y1'),\n",
    "    go.Scatter(\n",
    "        x=radius_medians.axes[0],\n",
    "        y=radius_medians.total_time,\n",
    "        name='total time',\n",
    "        showlegend=False,\n",
    "        mode='lines',\n",
    "        line=dict(\n",
    "            color='rgb(214, 12, 140)',\n",
    "            width=1\n",
    "        ),\n",
    "        yaxis='y1'),\n",
    "\n",
    "    go.Box(\n",
    "        x=dfr.radius,\n",
    "        y=dfr.max_memory - dfr.min_memory,\n",
    "        name='estimated memory usage',\n",
    "        marker=dict(\n",
    "            color='rgb(0, 128, 128)',\n",
    "        ),\n",
    "        yaxis='y2'),\n",
    "    go.Scatter(\n",
    "        x=radius_medians.axes[0],\n",
    "        y=radius_medians.max_memory - radius_medians.min_memory,\n",
    "        showlegend=False,\n",
    "        mode='lines',\n",
    "        line=dict(\n",
    "            color='rgb(0, 128, 128)',\n",
    "            width=1\n",
    "        ),\n",
    "        yaxis='y2')\n",
    "]\n",
    "\n",
    "layout = go.Layout(\n",
    "    title='Variying radius',\n",
    "    yaxis2=dict(\n",
    "        overlaying='y',\n",
    "        side='right'\n",
    "    )\n",
    ")\n",
    "\n",
    "fig = go.Figure(data=data, layout=layout)\n",
    "py.iplot(fig, filename='volume chart')"
   ]
  },
  {
   "cell_type": "code",
   "execution_count": null,
   "metadata": {},
   "outputs": [],
   "source": []
  }
 ],
 "metadata": {
  "kernelspec": {
   "display_name": "Python 3",
   "language": "python",
   "name": "python3"
  },
  "language_info": {
   "codemirror_mode": {
    "name": "ipython",
    "version": 3
   },
   "file_extension": ".py",
   "mimetype": "text/x-python",
   "name": "python",
   "nbconvert_exporter": "python",
   "pygments_lexer": "ipython3",
   "version": "3.5.2"
  }
 },
 "nbformat": 4,
 "nbformat_minor": 2
}
